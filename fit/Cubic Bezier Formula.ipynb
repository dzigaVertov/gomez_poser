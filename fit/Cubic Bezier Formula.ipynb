{
 "cells": [
  {
   "cell_type": "code",
   "execution_count": 1,
   "metadata": {},
   "outputs": [],
   "source": [
    "from sympy import *"
   ]
  },
  {
   "cell_type": "code",
   "execution_count": 2,
   "metadata": {},
   "outputs": [],
   "source": [
    "t, P_0, P_1, P_2, P_3, n = symbols('t P_0 P_1 P_2 P_3 n')"
   ]
  },
  {
   "cell_type": "markdown",
   "metadata": {},
   "source": [
    "Cubic Bezier Curve\n",
    "4 points P_0, P_1, P_2, P_3"
   ]
  },
  {
   "cell_type": "code",
   "execution_count": 12,
   "metadata": {},
   "outputs": [
    {
     "data": {
      "text/latex": [
       "$\\displaystyle P_{0} \\left(1 - t\\right)^{3} + 3 P_{1} t \\left(1 - t\\right)^{2} + 3 P_{2} t^{2} \\left(1 - t\\right) + P_{3} t^{3}$"
      ],
      "text/plain": [
       "P_0*(1 - t)**3 + 3*P_1*t*(1 - t)**2 + 3*P_2*t**2*(1 - t) + P_3*t**3"
      ]
     },
     "execution_count": 12,
     "metadata": {},
     "output_type": "execute_result"
    }
   ],
   "source": [
    "Q = P_0*(1-t)**3 + 3*P_1*t*(1-t)**2 + 3*P_2*t**2*(1-t) + P_3*t**3\n",
    "Q"
   ]
  },
  {
   "cell_type": "code",
   "execution_count": 13,
   "metadata": {},
   "outputs": [
    {
     "data": {
      "text/latex": [
       "$\\displaystyle - 3 P_{0} \\left(t - 1\\right)^{2} + 6 P_{1} t \\left(t - 1\\right) + 3 P_{1} \\left(t - 1\\right)^{2} - 3 P_{2} t^{2} - 6 P_{2} t \\left(t - 1\\right) + 3 P_{3} t^{2}$"
      ],
      "text/plain": [
       "-3*P_0*(t - 1)**2 + 6*P_1*t*(t - 1) + 3*P_1*(t - 1)**2 - 3*P_2*t**2 - 6*P_2*t*(t - 1) + 3*P_3*t**2"
      ]
     },
     "execution_count": 13,
     "metadata": {},
     "output_type": "execute_result"
    }
   ],
   "source": [
    "dQ = simplify(diff(Q,t))\n",
    "dQ"
   ]
  },
  {
   "cell_type": "markdown",
   "metadata": {},
   "source": [
    "A Bézier curve of degree n is defined in terms of Bernstein polynomials:\n",
    "\\begin{align}\n",
    "\\ Q(t) = \\sum_{i=0}^nV_iB_i^n(t), \\quad\\quad t \\in [0,1] \\\\\n",
    "\\end{align}\n",
    "\n",
    "Where the $V_i$ are the control points, and the $B_i^n(t)$ are the bernstein Polynomials of degree n\n",
    "\n",
    "\\begin{align}\n",
    "\\ B_i^n(t) = {n \\choose i}t^i(1-t)^{n-i}, \\quad\\quad i=0,\\dots,n \\\\\n",
    "\\end{align}\n",
    "\n",
    "Recursion Property of Bernstein Polynomials:\n",
    "\n",
    "\\begin{align}\n",
    "\\ B^n_i(t) & = (1-t)B_{i}^{n-1} + {t}B_{i-1}^{n-1} \\\\\n",
    "\\end{align}"
   ]
  },
  {
   "cell_type": "markdown",
   "metadata": {},
   "source": [
    "The condition for the minimum of squared distance is:\n",
    "\\begin{align}\n",
    "\\ \\sum_{i=1}^n B_1^3(u_i)Q(u_i)\\cdot t_1 = \\sum_{i=1}^nt_1B_1^3(u_i)\\cdot d_i\\\\\n",
    "\\end{align}"
   ]
  },
  {
   "cell_type": "markdown",
   "metadata": {},
   "source": [
    "For convinience define:\n",
    "\\begin{align}\n",
    "\\ A_{i,1} = t_1B_1^3(u_i) \\\\\n",
    "\\end{align}\n",
    "for each point.  Then the condition becomes:\n",
    "\\begin{align}\n",
    "\\ Q(u_i)\\cdot A_{i,1} = d_i \\cdot A_{i,1} \\\\\n",
    "\\end{align}"
   ]
  },
  {
   "cell_type": "code",
   "execution_count": null,
   "metadata": {},
   "outputs": [],
   "source": [
    "\n"
   ]
  }
 ],
 "metadata": {
  "kernelspec": {
   "display_name": "Python 3",
   "language": "python",
   "name": "python3"
  },
  "language_info": {
   "codemirror_mode": {
    "name": "ipython",
    "version": 3
   },
   "file_extension": ".py",
   "mimetype": "text/x-python",
   "name": "python",
   "nbconvert_exporter": "python",
   "pygments_lexer": "ipython3",
   "version": "3.7.5"
  }
 },
 "nbformat": 4,
 "nbformat_minor": 2
}
