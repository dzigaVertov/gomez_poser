{
 "cells": [
  {
   "cell_type": "code",
   "execution_count": 1,
   "metadata": {},
   "outputs": [],
   "source": [
    "from sympy import *"
   ]
  },
  {
   "cell_type": "code",
   "execution_count": 18,
   "metadata": {},
   "outputs": [],
   "source": [
    "t, P_0, P_1, P_2, P_3, n = symbols('t P_0 P_1 P_2 P_3 n')"
   ]
  },
  {
   "cell_type": "code",
   "execution_count": 19,
   "metadata": {},
   "outputs": [],
   "source": [
    "\n",
    "B = P_0*(1-t)**3 + 3*P_1*t*(1-t)**2 + 3*P_2*t**2*(1-t) + P_3*t**3"
   ]
  },
  {
   "cell_type": "code",
   "execution_count": 23,
   "metadata": {},
   "outputs": [
    {
     "data": {
      "text/latex": [
       "$\\displaystyle P_{0} \\left(1 - t\\right)^{3} + 3 P_{1} t \\left(1 - t\\right)^{2} + 3 P_{2} t^{2} \\left(1 - t\\right) + P_{3} t^{3}$"
      ],
      "text/plain": [
       "P_0*(1 - t)**3 + 3*P_1*t*(1 - t)**2 + 3*P_2*t**2*(1 - t) + P_3*t**3"
      ]
     },
     "execution_count": 23,
     "metadata": {},
     "output_type": "execute_result"
    }
   ],
   "source": [
    "B"
   ]
  },
  {
   "cell_type": "code",
   "execution_count": 24,
   "metadata": {},
   "outputs": [
    {
     "data": {
      "text/latex": [
       "$\\displaystyle - P_{0} t^{3} + 3 P_{0} t^{2} - 3 P_{0} t + P_{0} + 3 P_{1} t^{3} - 6 P_{1} t^{2} + 3 P_{1} t - 3 P_{2} t^{3} + 3 P_{2} t^{2} + P_{3} t^{3}$"
      ],
      "text/plain": [
       "-P_0*t**3 + 3*P_0*t**2 - 3*P_0*t + P_0 + 3*P_1*t**3 - 6*P_1*t**2 + 3*P_1*t - 3*P_2*t**3 + 3*P_2*t**2 + P_3*t**3"
      ]
     },
     "execution_count": 24,
     "metadata": {},
     "output_type": "execute_result"
    }
   ],
   "source": [
    "B.expand()"
   ]
  },
  {
   "cell_type": "code",
   "execution_count": 29,
   "metadata": {},
   "outputs": [
    {
     "data": {
      "text/latex": [
       "$\\displaystyle - 3 P_{2} + 3 P_{3}$"
      ],
      "text/plain": [
       "-3*P_2 + 3*P_3"
      ]
     },
     "execution_count": 29,
     "metadata": {},
     "output_type": "execute_result"
    }
   ],
   "source": [
    "diff(B,t).subs(t,1)"
   ]
  },
  {
   "cell_type": "code",
   "execution_count": null,
   "metadata": {},
   "outputs": [],
   "source": []
  }
 ],
 "metadata": {
  "kernelspec": {
   "display_name": "Python 3",
   "language": "python",
   "name": "python3"
  },
  "language_info": {
   "codemirror_mode": {
    "name": "ipython",
    "version": 3
   },
   "file_extension": ".py",
   "mimetype": "text/x-python",
   "name": "python",
   "nbconvert_exporter": "python",
   "pygments_lexer": "ipython3",
   "version": "3.7.5"
  }
 },
 "nbformat": 4,
 "nbformat_minor": 2
}
